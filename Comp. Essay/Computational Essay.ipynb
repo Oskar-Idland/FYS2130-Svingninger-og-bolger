{
 "cells": [
  {
   "cell_type": "code",
   "execution_count": 7,
   "metadata": {},
   "outputs": [],
   "source": [
    "import numpy as np\n",
    "import sys\n",
    "import matplotlib.pyplot as plt\n",
    "import numba as nb\n",
    "from numba import njit as func_go_brrr\n",
    "from random import random, seed\n",
    "seed(123)"
   ]
  },
  {
   "attachments": {},
   "cell_type": "markdown",
   "metadata": {},
   "source": [
    "### Enkel funksjon for å gjøre dataklasser numba-vennlige"
   ]
  },
  {
   "cell_type": "code",
   "execution_count": 8,
   "metadata": {},
   "outputs": [],
   "source": [
    "import numba as nb\n",
    "from dataclasses import dataclass\n",
    "\n",
    "def jitdataclass(cls=None, *, extra_spec=[]):\n",
    "    \"\"\"\n",
    "    Helper decorator to make it easier to numba jitclass dataclasses\n",
    "\n",
    "    Inspired by https://github.com/numba/numba/issues/4037#issuecomment-907523015\n",
    "    \"\"\"\n",
    "    def _jitdataclass(cls):\n",
    "        dc_cls = dataclass(cls, eq=False)\n",
    "        del dc_cls.__dataclass_params__\n",
    "        del dc_cls.__dataclass_fields__\n",
    "        return nb.experimental.jitclass(dc_cls, spec=extra_spec)\n",
    "    \n",
    "    if cls is not None:\n",
    "        # We've been called without additional args - invoke actual decorator immediately\n",
    "        return _jitdataclass(cls)\n",
    "    # We've been called with additional args - so return actual decorator which python calls for us\n",
    "    return _jitdataclass"
   ]
  },
  {
   "cell_type": "code",
   "execution_count": 9,
   "metadata": {},
   "outputs": [],
   "source": [
    "@jitdataclass\n",
    "class Particle:\n",
    "    x: nb.float32\n",
    "    y: nb.float32\n",
    "    vx: nb.float32\n",
    "    vy: nb.float32\n",
    "    # m: nb.float32\n",
    "    # r: nb.float32\n",
    "    \n",
    "@dataclass\n",
    "class test_Particle:\n",
    "    x: float\n",
    "    y: float\n",
    "    vx: float\n",
    "    vy: float\n",
    "    # m: float\n",
    "    # r: float"
   ]
  },
  {
   "cell_type": "code",
   "execution_count": 10,
   "metadata": {},
   "outputs": [],
   "source": [
    "particles = [Particle(random(), random(), random(), random()) for _ in range(1_000_000)]"
   ]
  },
  {
   "cell_type": "code",
   "execution_count": 11,
   "metadata": {},
   "outputs": [],
   "source": [
    "test_particles = [test_Particle(random(), random(), random(), random()) for _ in range(1_000_000)]"
   ]
  },
  {
   "cell_type": "code",
   "execution_count": 12,
   "metadata": {},
   "outputs": [
    {
     "name": "stdout",
     "output_type": "stream",
     "text": [
      "48\n",
      "<numba.experimental.jitclass.boxing.Particle object at 0x000002479D771DC0>\n",
      "48\n",
      "test_Particle(x=0.41251398890477287, y=0.09314018191744389, vx=0.9241299065173832, vy=0.02468590526041259)\n",
      "\n"
     ]
    }
   ],
   "source": [
    "print(sys.getsizeof(particles[0]))\n",
    "print(particles[0])\n",
    "print(sys.getsizeof(test_particles[0]))\n",
    "print(test_particles[0])\n",
    "print()"
   ]
  },
  {
   "cell_type": "code",
   "execution_count": 13,
   "metadata": {},
   "outputs": [
    {
     "name": "stdout",
     "output_type": "stream",
     "text": [
      "16000120\n"
     ]
    }
   ],
   "source": [
    "positions = np.array([[p.x, p.y] for p in particles])\n",
    "print(sys.getsizeof(positions))"
   ]
  },
  {
   "cell_type": "code",
   "execution_count": 14,
   "metadata": {},
   "outputs": [
    {
     "data": {
      "image/png": "[encoded data removed]",
      "text/plain": [
       "<Figure size 640x480 with 1 Axes>"
      ]
     },
     "metadata": {},
     "output_type": "display_data"
    }
   ],
   "source": [
    "plt.scatter(positions[:, 0], positions[:, 1])\n",
    "plt.show()"
   ]
  },
  {
   "cell_type": "code",
   "execution_count": 15,
   "metadata": {},
   "outputs": [
    {
     "name": "stdout",
     "output_type": "stream",
     "text": [
      "16000120\n"
     ]
    }
   ],
   "source": [
    "pos_matrix = np.random.rand(1_000_000, 2)\n",
    "print(sys.getsizeof(pos_matrix))"
   ]
  },
  {
   "cell_type": "code",
   "execution_count": 16,
   "metadata": {},
   "outputs": [
    {
     "data": {
      "text/plain": [
       "<matplotlib.collections.PathCollection at 0x2478b42e400>"
      ]
     },
     "execution_count": 16,
     "metadata": {},
     "output_type": "execute_result"
    },
    {
     "data": {
      "image/png": "[encoded data removed]",
      "text/plain": [
       "<Figure size 640x480 with 1 Axes>"
      ]
     },
     "metadata": {},
     "output_type": "display_data"
    }
   ],
   "source": [
    "plt.scatter(pos_matrix[:, 0], pos_matrix[:, 1])"
   ]
  },
  {
   "cell_type": "code",
   "execution_count": 17,
   "metadata": {},
   "outputs": [],
   "source": [
    "@func_go_brrr\n",
    "def update_positions(particles, dt):\n",
    "    for p in particles:\n",
    "        p.x += p.vx * dt\n",
    "        p.y += p.vy * dt\n",
    "        \n",
    "def test_update_positions(test_particles, dt):\n",
    "    for p in test_particles:\n",
    "        p.x += p.vx * dt\n",
    "        p.y += p.vy * dt"
   ]
  },
  {
   "cell_type": "code",
   "execution_count": 21,
   "metadata": {},
   "outputs": [],
   "source": [
    "update_positions(particles, 0.1)"
   ]
  },
  {
   "cell_type": "code",
   "execution_count": 20,
   "metadata": {},
   "outputs": [],
   "source": [
    "test_update_positions(test_particles, 0.1)"
   ]
  }
 ],
 "metadata": {
  "kernelspec": {
   "display_name": "base",
   "language": "python",
   "name": "python3"
  },
  "language_info": {
   "codemirror_mode": {
    "name": "ipython",
    "version": 3
   },
   "file_extension": ".py",
   "mimetype": "text/x-python",
   "name": "python",
   "nbconvert_exporter": "python",
   "pygments_lexer": "ipython3",
   "version": "3.9.13"
  },
  "orig_nbformat": 4
 },
 "nbformat": 4,
 "nbformat_minor": 2
}
