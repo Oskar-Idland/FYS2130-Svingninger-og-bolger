{
 "cells": [
  {
   "cell_type": "code",
   "execution_count": 1,
   "metadata": {},
   "outputs": [],
   "source": [
    "using StaticArrays\n",
    "using Plots\n",
    "using LinearAlgebra"
   ]
  },
  {
   "attachments": {},
   "cell_type": "markdown",
   "metadata": {},
   "source": [
    "## Particle"
   ]
  },
  {
   "cell_type": "code",
   "execution_count": 6,
   "metadata": {},
   "outputs": [
    {
     "data": {
      "text/plain": [
       "2-element Particle{Float64} with indices SOneTo(2):\n",
       " 2.0\n",
       " 1.0"
      ]
     },
     "metadata": {},
     "output_type": "display_data"
    }
   ],
   "source": [
    "struct Particle{Float64} <: FieldVector{2,Float64} # Julias måte å notere arv fra en datastruktur. Dette lar oss lagre alle partiklene en vektor\n",
    "    x::Float64\n",
    "    y::Float64\n",
    "end\n",
    "\n",
    "Particle(2.,1.)"
   ]
  },
  {
   "attachments": {},
   "cell_type": "markdown",
   "metadata": {},
   "source": [
    "## Kreftene mellom partikler"
   ]
  },
  {
   "attachments": {},
   "cell_type": "markdown",
   "metadata": {},
   "source": [
    "## Forenkling av beregning ved bruk av grid \n",
    "\n",
    "![particle_grid](particle_grid.png)"
   ]
  },
  {
   "cell_type": "code",
   "execution_count": 7,
   "metadata": {},
   "outputs": [
    {
     "data": {
      "text/plain": [
       "Box{OrthorhombicCell, 2}\n",
       "  unit cell matrix = [ 20.0 0.0; 0.0 20.0 ]\n",
       "  cutoff = 1.0\n",
       "  number of computing cells on each dimension = [23, 23]\n",
       "  computing cell sizes = [1.0, 1.0] (lcell: 1)\n",
       "  Total number of cells = 529"
      ]
     },
     "metadata": {},
     "output_type": "display_data"
    }
   ],
   "source": [
    "using CellListMap\n",
    "\n",
    "l = 20 # sidelengde\n",
    "grid_size = 1\n",
    "box = Box([l, l], grid_size)"
   ]
  },
  {
   "attachments": {},
   "cell_type": "markdown",
   "metadata": {},
   "source": [
    "## Objekt for å holde følge på hvilken celle partiklene okkuperer"
   ]
  },
  {
   "cell_type": "code",
   "execution_count": 8,
   "metadata": {},
   "outputs": [
    {
     "data": {
      "text/plain": [
       "CellList{2, Float64}\n",
       "  20 real particles.\n",
       "  18 cells with real particles.\n",
       "  28 particles in computing box, including images."
      ]
     },
     "metadata": {},
     "output_type": "display_data"
    }
   ],
   "source": [
    "n_particles = 20\n",
    "particles_demo = [rand(-l/2:l/2, 2) for _ in 1:n_particles]\n",
    "\n",
    "cl = CellList(particles_demo, box)"
   ]
  },
  {
   "attachments": {},
   "cell_type": "markdown",
   "metadata": {},
   "source": [
    "## Plassering av partikler\n",
    "Vi begynner med å plassere partiklene tilfeldig i boksen"
   ]
  },
  {
   "cell_type": "code",
   "execution_count": 239,
   "metadata": {},
   "outputs": [
    {
     "data": {
      "image/png": "[encoded data removed]",
      "image/svg+xml": [
       "<?xml version=\"1.0\" encoding=\"utf-8\"?>\n",
       "<svg xmlns=\"http://www.w3.org/2000/svg\" xmlns:xlink=\"http://www.w3.org/1999/xlink\" width=\"600\" height=\"400\" viewBox=\"0 0 2400 1600\">\n",
       "<defs>\n",
       "  <clipPath id=\"clip750\">\n",
       "    <rect x=\"0\" y=\"0\" width=\"2400\" height=\"1600\"/>\n",
       "  </clipPath>\n",
       "</defs>\n",
       "<path clip-path=\"url(#clip750)\" d=\"\n",
       "M0 1600 L2400 1600 L2400 0 L0 0  Z\n",
       "  \" fill=\"#ffffff\" fill-rule=\"evenodd\" fill-opacity=\"1\"/>\n",
       "<defs>\n",
       "  <clipPath id=\"clip751\">\n",
       "    <rect x=\"480\" y=\"0\" width=\"1681\" height=\"1600\"/>\n",
       "  </clipPath>\n",
       "</defs>\n",
       "<path clip-path=\"url(#clip750)\" d=\"\n",
       "M156.598 1486.45 L2352.76 1486.45 L2352.76 47.2441 L156.598 47.2441  Z\n",
       "  \" fill=\"#ffffff\" fill-rule=\"evenodd\" fill-opacity=\"1\"/>\n",
       "<defs>\n",
       "  <clipPath id=\"clip752\">\n",
       "    <rect x=\"156\" y=\"47\" width=\"2197\" height=\"1440\"/>\n",
       "  </clipPath>\n",
       "</defs>\n",
       "<polyline clip-path=\"url(#clip752)\" style=\"stroke:#000000; stroke-linecap:round; stroke-linejoin:round; stroke-width:2; stroke-opacity:0.1; fill:none\" points=\"\n",
       "  306.544,1486.45 306.544,47.2441 \n",
       "  \"/>\n",
       "<polyline clip-path=\"url(#clip752)\" style=\"stroke:#000000; stroke-linecap:round; stroke-linejoin:round; stroke-width:2; stroke-opacity:0.1; fill:none\" points=\"\n",
       "  745.494,1486.45 745.494,47.2441 \n",
       "  \"/>\n",
       "<polyline clip-path=\"url(#clip752)\" style=\"stroke:#000000; stroke-linecap:round; stroke-linejoin:round; stroke-width:2; stroke-opacity:0.1; fill:none\" points=\"\n",
       "  1184.44,1486.45 1184.44,47.2441 \n",
       "  \"/>\n",
       "<polyline clip-path=\"url(#clip752)\" style=\"stroke:#000000; stroke-linecap:round; stroke-linejoin:round; stroke-width:2; stroke-opacity:0.1; fill:none\" points=\"\n",
       "  1623.4,1486.45 1623.4,47.2441 \n",
       "  \"/>\n",
       "<polyline clip-path=\"url(#clip752)\" style=\"stroke:#000000; stroke-linecap:round; stroke-linejoin:round; stroke-width:2; stroke-opacity:0.1; fill:none\" points=\"\n",
       "  2062.35,1486.45 2062.35,47.2441 \n",
       "  \"/>\n",
       "<polyline clip-path=\"url(#clip750)\" style=\"stroke:#000000; stroke-linecap:round; stroke-linejoin:round; stroke-width:4; stroke-opacity:1; fill:none\" points=\"\n",
       "  156.598,1486.45 2352.76,1486.45 \n",
       "  \"/>\n",
       "<polyline clip-path=\"url(#clip750)\" style=\"stroke:#000000; stroke-linecap:round; stroke-linejoin:round; stroke-width:4; stroke-opacity:1; fill:none\" points=\"\n",
       "  306.544,1486.45 306.544,1467.55 \n",
       "  \"/>\n",
       "<polyline clip-path=\"url(#clip750)\" style=\"stroke:#000000; stroke-linecap:round; stroke-linejoin:round; stroke-width:4; stroke-opacity:1; fill:none\" points=\"\n",
       "  745.494,1486.45 745.494,1467.55 \n",
       "  \"/>\n",
       "<polyline clip-path=\"url(#clip750)\" style=\"stroke:#000000; stroke-linecap:round; stroke-linejoin:round; stroke-width:4; stroke-opacity:1; fill:none\" points=\"\n",
       "  1184.44,1486.45 1184.44,1467.55 \n",
       "  \"/>\n",
       "<polyline clip-path=\"url(#clip750)\" style=\"stroke:#000000; stroke-linecap:round; stroke-linejoin:round; stroke-width:4; stroke-opacity:1; fill:none\" points=\"\n",
       "  1623.4,1486.45 1623.4,1467.55 \n",
       "  \"/>\n",
       "<polyline clip-path=\"url(#clip750)\" style=\"stroke:#000000; stroke-linecap:round; stroke-linejoin:round; stroke-width:4; stroke-opacity:1; fill:none\" points=\"\n",
       "  2062.35,1486.45 2062.35,1467.55 \n",
       "  \"/>\n",
       "<path clip-path=\"url(#clip750)\" d=\"M238.489 1532.02 L268.164 1532.02 L268.164 1535.95 L238.489 1535.95 L238.489 1532.02 Z\" fill=\"#000000\" fill-rule=\"evenodd\" fill-opacity=\"1\" /><path clip-path=\"url(#clip750)\" d=\"M288.257 1517.37 Q284.646 1517.37 282.817 1520.93 Q281.011 1524.47 281.011 1531.6 Q281.011 1538.71 282.817 1542.27 Q284.646 1545.82 288.257 1545.82 Q291.891 1545.82 293.697 1542.27 Q295.525 1538.71 295.525 1531.6 Q295.525 1524.47 293.697 1520.93 Q291.891 1517.37 288.257 1517.37 M288.257 1513.66 Q294.067 1513.66 297.123 1518.27 Q300.201 1522.85 300.201 1531.6 Q300.201 1540.33 297.123 1544.94 Q294.067 1549.52 288.257 1549.52 Q282.447 1549.52 279.368 1544.94 Q276.312 1540.33 276.312 1531.6 Q276.312 1522.85 279.368 1518.27 Q282.447 1513.66 288.257 1513.66 Z\" fill=\"#000000\" fill-rule=\"evenodd\" fill-opacity=\"1\" /><path clip-path=\"url(#clip750)\" d=\"M308.419 1542.97 L313.303 1542.97 L313.303 1548.85 L308.419 1548.85 L308.419 1542.97 Z\" fill=\"#000000\" fill-rule=\"evenodd\" fill-opacity=\"1\" /><path clip-path=\"url(#clip750)\" d=\"M337.655 1530.21 Q341.011 1530.93 342.886 1533.2 Q344.784 1535.47 344.784 1538.8 Q344.784 1543.92 341.266 1546.72 Q337.747 1549.52 331.266 1549.52 Q329.09 1549.52 326.775 1549.08 Q324.483 1548.66 322.03 1547.81 L322.03 1543.29 Q323.974 1544.43 326.289 1545.01 Q328.604 1545.58 331.127 1545.58 Q335.525 1545.58 337.817 1543.85 Q340.132 1542.11 340.132 1538.8 Q340.132 1535.75 337.979 1534.03 Q335.849 1532.3 332.03 1532.3 L328.002 1532.3 L328.002 1528.45 L332.215 1528.45 Q335.664 1528.45 337.493 1527.09 Q339.321 1525.7 339.321 1523.11 Q339.321 1520.45 337.423 1519.03 Q335.548 1517.6 332.03 1517.6 Q330.108 1517.6 327.909 1518.01 Q325.71 1518.43 323.071 1519.31 L323.071 1515.14 Q325.733 1514.4 328.048 1514.03 Q330.386 1513.66 332.446 1513.66 Q337.77 1513.66 340.872 1516.09 Q343.974 1518.5 343.974 1522.62 Q343.974 1525.49 342.331 1527.48 Q340.687 1529.45 337.655 1530.21 Z\" fill=\"#000000\" fill-rule=\"evenodd\" fill-opacity=\"1\" /><path clip-path=\"url(#clip750)\" d=\"M353.696 1514.29 L372.053 1514.29 L372.053 1518.22 L357.979 1518.22 L357.979 1526.7 Q358.997 1526.35 360.016 1526.19 Q361.034 1526 362.053 1526 Q367.84 1526 371.219 1529.17 Q374.599 1532.34 374.599 1537.76 Q374.599 1543.34 371.127 1546.44 Q367.655 1549.52 361.335 1549.52 Q359.159 1549.52 356.891 1549.15 Q354.645 1548.78 352.238 1548.04 L352.238 1543.34 Q354.321 1544.47 356.543 1545.03 Q358.766 1545.58 361.243 1545.58 Q365.247 1545.58 367.585 1543.48 Q369.923 1541.37 369.923 1537.76 Q369.923 1534.15 367.585 1532.04 Q365.247 1529.94 361.243 1529.94 Q359.368 1529.94 357.493 1530.35 Q355.641 1530.77 353.696 1531.65 L353.696 1514.29 Z\" fill=\"#000000\" fill-rule=\"evenodd\" fill-opacity=\"1\" /><path clip-path=\"url(#clip750)\" d=\"M676.941 1532.02 L706.617 1532.02 L706.617 1535.95 L676.941 1535.95 L676.941 1532.02 Z\" fill=\"#000000\" fill-rule=\"evenodd\" fill-opacity=\"1\" /><path clip-path=\"url(#clip750)\" d=\"M726.71 1517.37 Q723.099 1517.37 721.27 1520.93 Q719.464 1524.47 719.464 1531.6 Q719.464 1538.71 721.27 1542.27 Q723.099 1545.82 726.71 1545.82 Q730.344 1545.82 732.15 1542.27 Q733.978 1538.71 733.978 1531.6 Q733.978 1524.47 732.15 1520.93 Q730.344 1517.37 726.71 1517.37 M726.71 1513.66 Q732.52 1513.66 735.575 1518.27 Q738.654 1522.85 738.654 1531.6 Q738.654 1540.33 735.575 1544.94 Q732.52 1549.52 726.71 1549.52 Q720.9 1549.52 717.821 1544.94 Q714.765 1540.33 714.765 1531.6 Q714.765 1522.85 717.821 1518.27 Q720.9 1513.66 726.71 1513.66 Z\" fill=\"#000000\" fill-rule=\"evenodd\" fill-opacity=\"1\" /><path clip-path=\"url(#clip750)\" d=\"M746.872 1542.97 L751.756 1542.97 L751.756 1548.85 L746.872 1548.85 L746.872 1542.97 Z\" fill=\"#000000\" fill-rule=\"evenodd\" fill-opacity=\"1\" /><path clip-path=\"url(#clip750)\" d=\"M776.108 1530.21 Q779.464 1530.93 781.339 1533.2 Q783.237 1535.47 783.237 1538.8 Q783.237 1543.92 779.719 1546.72 Q776.2 1549.52 769.719 1549.52 Q767.543 1549.52 765.228 1549.08 Q762.936 1548.66 760.483 1547.81 L760.483 1543.29 Q762.427 1544.43 764.742 1545.01 Q767.057 1545.58 769.58 1545.58 Q773.978 1545.58 776.27 1543.85 Q778.584 1542.11 778.584 1538.8 Q778.584 1535.75 776.432 1534.03 Q774.302 1532.3 770.483 1532.3 L766.455 1532.3 L766.455 1528.45 L770.668 1528.45 Q774.117 1528.45 775.946 1527.09 Q777.774 1525.7 777.774 1523.11 Q777.774 1520.45 775.876 1519.03 Q774.001 1517.6 770.483 1517.6 Q768.561 1517.6 766.362 1518.01 Q764.163 1518.43 761.524 1519.31 L761.524 1515.14 Q764.186 1514.4 766.501 1514.03 Q768.839 1513.66 770.899 1513.66 Q776.223 1513.66 779.325 1516.09 Q782.427 1518.5 782.427 1522.62 Q782.427 1525.49 780.784 1527.48 Q779.14 1529.45 776.108 1530.21 Z\" fill=\"#000000\" fill-rule=\"evenodd\" fill-opacity=\"1\" /><path clip-path=\"url(#clip750)\" d=\"M802.103 1517.37 Q798.492 1517.37 796.663 1520.93 Q794.858 1524.47 794.858 1531.6 Q794.858 1538.71 796.663 1542.27 Q798.492 1545.82 802.103 1545.82 Q805.737 1545.82 807.543 1542.27 Q809.371 1538.71 809.371 1531.6 Q809.371 1524.47 807.543 1520.93 Q805.737 1517.37 802.103 1517.37 M802.103 1513.66 Q807.913 1513.66 810.969 1518.27 Q814.047 1522.85 814.047 1531.6 Q814.047 1540.33 810.969 1544.94 Q807.913 1549.52 802.103 1549.52 Q796.293 1549.52 793.214 1544.94 Q790.158 1540.33 790.158 1531.6 Q790.158 1522.85 793.214 1518.27 Q796.293 1513.66 802.103 1513.66 Z\" fill=\"#000000\" fill-rule=\"evenodd\" fill-opacity=\"1\" /><path clip-path=\"url(#clip750)\" d=\"M1116.39 1532.02 L1146.07 1532.02 L1146.07 1535.95 L1116.39 1535.95 L1116.39 1532.02 Z\" fill=\"#000000\" fill-rule=\"evenodd\" fill-opacity=\"1\" /><path clip-path=\"url(#clip750)\" d=\"M1166.16 1517.37 Q1162.55 1517.37 1160.72 1520.93 Q1158.91 1524.47 1158.91 1531.6 Q1158.91 1538.71 1160.72 1542.27 Q1162.55 1545.82 1166.16 1545.82 Q1169.79 1545.82 1171.6 1542.27 Q1173.43 1538.71 1173.43 1531.6 Q1173.43 1524.47 1171.6 1520.93 Q1169.79 1517.37 1166.16 1517.37 M1166.16 1513.66 Q1171.97 1513.66 1175.02 1518.27 Q1178.1 1522.85 1178.1 1531.6 Q1178.1 1540.33 1175.02 1544.94 Q1171.97 1549.52 1166.16 1549.52 Q1160.35 1549.52 1157.27 1544.94 Q1154.21 1540.33 1154.21 1531.6 Q1154.21 1522.85 1157.27 1518.27 Q1160.35 1513.66 1166.16 1513.66 Z\" fill=\"#000000\" fill-rule=\"evenodd\" fill-opacity=\"1\" /><path clip-path=\"url(#clip750)\" d=\"M1186.32 1542.97 L1191.2 1542.97 L1191.2 1548.85 L1186.32 1548.85 L1186.32 1542.97 Z\" fill=\"#000000\" fill-rule=\"evenodd\" fill-opacity=\"1\" /><path clip-path=\"url(#clip750)\" d=\"M1205.42 1544.91 L1221.74 1544.91 L1221.74 1548.85 L1199.79 1548.85 L1199.79 1544.91 Q1202.45 1542.16 1207.04 1537.53 Q1211.64 1532.88 1212.82 1531.53 Q1215.07 1529.01 1215.95 1527.27 Q1216.85 1525.51 1216.85 1523.82 Q1216.85 1521.07 1214.91 1519.33 Q1212.99 1517.6 1209.88 1517.6 Q1207.69 1517.6 1205.23 1518.36 Q1202.8 1519.13 1200.02 1520.68 L1200.02 1515.95 Q1202.85 1514.82 1205.3 1514.24 Q1207.76 1513.66 1209.79 1513.66 Q1215.16 1513.66 1218.36 1516.35 Q1221.55 1519.03 1221.55 1523.52 Q1221.55 1525.65 1220.74 1527.57 Q1219.95 1529.47 1217.85 1532.07 Q1217.27 1532.74 1214.17 1535.95 Q1211.07 1539.15 1205.42 1544.91 Z\" fill=\"#000000\" fill-rule=\"evenodd\" fill-opacity=\"1\" /><path clip-path=\"url(#clip750)\" d=\"M1231.6 1514.29 L1249.95 1514.29 L1249.95 1518.22 L1235.88 1518.22 L1235.88 1526.7 Q1236.9 1526.35 1237.92 1526.19 Q1238.94 1526 1239.95 1526 Q1245.74 1526 1249.12 1529.17 Q1252.5 1532.34 1252.5 1537.76 Q1252.5 1543.34 1249.03 1546.44 Q1245.56 1549.52 1239.24 1549.52 Q1237.06 1549.52 1234.79 1549.15 Q1232.55 1548.78 1230.14 1548.04 L1230.14 1543.34 Q1232.22 1544.47 1234.44 1545.03 Q1236.67 1545.58 1239.14 1545.58 Q1243.15 1545.58 1245.49 1543.48 Q1247.82 1541.37 1247.82 1537.76 Q1247.82 1534.15 1245.49 1532.04 Q1243.15 1529.94 1239.14 1529.94 Q1237.27 1529.94 1235.39 1530.35 Q1233.54 1530.77 1231.6 1531.65 L1231.6 1514.29 Z\" fill=\"#000000\" fill-rule=\"evenodd\" fill-opacity=\"1\" /><path clip-path=\"url(#clip750)\" d=\"M1554.84 1532.02 L1584.52 1532.02 L1584.52 1535.95 L1554.84 1535.95 L1554.84 1532.02 Z\" fill=\"#000000\" fill-rule=\"evenodd\" fill-opacity=\"1\" /><path clip-path=\"url(#clip750)\" d=\"M1604.61 1517.37 Q1601 1517.37 1599.17 1520.93 Q1597.37 1524.47 1597.37 1531.6 Q1597.37 1538.71 1599.17 1542.27 Q1601 1545.82 1604.61 1545.82 Q1608.25 1545.82 1610.05 1542.27 Q1611.88 1538.71 1611.88 1531.6 Q1611.88 1524.47 1610.05 1520.93 Q1608.25 1517.37 1604.61 1517.37 M1604.61 1513.66 Q1610.42 1513.66 1613.48 1518.27 Q1616.56 1522.85 1616.56 1531.6 Q1616.56 1540.33 1613.48 1544.94 Q1610.42 1549.52 1604.61 1549.52 Q1598.8 1549.52 1595.72 1544.94 Q1592.67 1540.33 1592.67 1531.6 Q1592.67 1522.85 1595.72 1518.27 Q1598.8 1513.66 1604.61 1513.66 Z\" fill=\"#000000\" fill-rule=\"evenodd\" fill-opacity=\"1\" /><path clip-path=\"url(#clip750)\" d=\"M1624.77 1542.97 L1629.66 1542.97 L1629.66 1548.85 L1624.77 1548.85 L1624.77 1542.97 Z\" fill=\"#000000\" fill-rule=\"evenodd\" fill-opacity=\"1\" /><path clip-path=\"url(#clip750)\" d=\"M1643.87 1544.91 L1660.19 1544.91 L1660.19 1548.85 L1638.25 1548.85 L1638.25 1544.91 Q1640.91 1542.16 1645.49 1537.53 Q1650.1 1532.88 1651.28 1531.53 Q1653.52 1529.01 1654.4 1527.27 Q1655.31 1525.51 1655.31 1523.82 Q1655.31 1521.07 1653.36 1519.33 Q1651.44 1517.6 1648.34 1517.6 Q1646.14 1517.6 1643.68 1518.36 Q1641.25 1519.13 1638.48 1520.68 L1638.48 1515.95 Q1641.3 1514.82 1643.75 1514.24 Q1646.21 1513.66 1648.24 1513.66 Q1653.62 1513.66 1656.81 1516.35 Q1660 1519.03 1660 1523.52 Q1660 1525.65 1659.19 1527.57 Q1658.41 1529.47 1656.3 1532.07 Q1655.72 1532.74 1652.62 1535.95 Q1649.52 1539.15 1643.87 1544.91 Z\" fill=\"#000000\" fill-rule=\"evenodd\" fill-opacity=\"1\" /><path clip-path=\"url(#clip750)\" d=\"M1680 1517.37 Q1676.39 1517.37 1674.56 1520.93 Q1672.76 1524.47 1672.76 1531.6 Q1672.76 1538.71 1674.56 1542.27 Q1676.39 1545.82 1680 1545.82 Q1683.64 1545.82 1685.44 1542.27 Q1687.27 1538.71 1687.27 1531.6 Q1687.27 1524.47 1685.44 1520.93 Q1683.64 1517.37 1680 1517.37 M1680 1513.66 Q1685.81 1513.66 1688.87 1518.27 Q1691.95 1522.85 1691.95 1531.6 Q1691.95 1540.33 1688.87 1544.94 Q1685.81 1549.52 1680 1549.52 Q1674.19 1549.52 1671.12 1544.94 Q1668.06 1540.33 1668.06 1531.6 Q1668.06 1522.85 1671.12 1518.27 Q1674.19 1513.66 1680 1513.66 Z\" fill=\"#000000\" fill-rule=\"evenodd\" fill-opacity=\"1\" /><path clip-path=\"url(#clip750)\" d=\"M1994.29 1532.02 L2023.97 1532.02 L2023.97 1535.95 L1994.29 1535.95 L1994.29 1532.02 Z\" fill=\"#000000\" fill-rule=\"evenodd\" fill-opacity=\"1\" /><path clip-path=\"url(#clip750)\" d=\"M2044.06 1517.37 Q2040.45 1517.37 2038.62 1520.93 Q2036.81 1524.47 2036.81 1531.6 Q2036.81 1538.71 2038.62 1542.27 Q2040.45 1545.82 2044.06 1545.82 Q2047.69 1545.82 2049.5 1542.27 Q2051.33 1538.71 2051.33 1531.6 Q2051.33 1524.47 2049.5 1520.93 Q2047.69 1517.37 2044.06 1517.37 M2044.06 1513.66 Q2049.87 1513.66 2052.92 1518.27 Q2056 1522.85 2056 1531.6 Q2056 1540.33 2052.92 1544.94 Q2049.87 1549.52 2044.06 1549.52 Q2038.25 1549.52 2035.17 1544.94 Q2032.11 1540.33 2032.11 1531.6 Q2032.11 1522.85 2035.17 1518.27 Q2038.25 1513.66 2044.06 1513.66 Z\" fill=\"#000000\" fill-rule=\"evenodd\" fill-opacity=\"1\" /><path clip-path=\"url(#clip750)\" d=\"M2064.22 1542.97 L2069.11 1542.97 L2069.11 1548.85 L2064.22 1548.85 L2064.22 1542.97 Z\" fill=\"#000000\" fill-rule=\"evenodd\" fill-opacity=\"1\" /><path clip-path=\"url(#clip750)\" d=\"M2080.1 1544.91 L2087.74 1544.91 L2087.74 1518.55 L2079.43 1520.21 L2079.43 1515.95 L2087.69 1514.29 L2092.37 1514.29 L2092.37 1544.91 L2100.01 1544.91 L2100.01 1548.85 L2080.1 1548.85 L2080.1 1544.91 Z\" fill=\"#000000\" fill-rule=\"evenodd\" fill-opacity=\"1\" /><path clip-path=\"url(#clip750)\" d=\"M2109.5 1514.29 L2127.86 1514.29 L2127.86 1518.22 L2113.78 1518.22 L2113.78 1526.7 Q2114.8 1526.35 2115.82 1526.19 Q2116.84 1526 2117.86 1526 Q2123.64 1526 2127.02 1529.17 Q2130.4 1532.34 2130.4 1537.76 Q2130.4 1543.34 2126.93 1546.44 Q2123.46 1549.52 2117.14 1549.52 Q2114.96 1549.52 2112.69 1549.15 Q2110.45 1548.78 2108.04 1548.04 L2108.04 1543.34 Q2110.12 1544.47 2112.35 1545.03 Q2114.57 1545.58 2117.04 1545.58 Q2121.05 1545.58 2123.39 1543.48 Q2125.73 1541.37 2125.73 1537.76 Q2125.73 1534.15 2123.39 1532.04 Q2121.05 1529.94 2117.04 1529.94 Q2115.17 1529.94 2113.29 1530.35 Q2111.44 1530.77 2109.5 1531.65 L2109.5 1514.29 Z\" fill=\"#000000\" fill-rule=\"evenodd\" fill-opacity=\"1\" /><polyline clip-path=\"url(#clip752)\" style=\"stroke:#000000; stroke-linecap:round; stroke-linejoin:round; stroke-width:2; stroke-opacity:0.1; fill:none\" points=\"\n",
       "  156.598,1257.91 2352.76,1257.91 \n",
       "  \"/>\n",
       "<polyline clip-path=\"url(#clip752)\" style=\"stroke:#000000; stroke-linecap:round; stroke-linejoin:round; stroke-width:2; stroke-opacity:0.1; fill:none\" points=\"\n",
       "  156.598,950.033 2352.76,950.033 \n",
       "  \"/>\n",
       "<polyline clip-path=\"url(#clip752)\" style=\"stroke:#000000; stroke-linecap:round; stroke-linejoin:round; stroke-width:2; stroke-opacity:0.1; fill:none\" points=\"\n",
       "  156.598,642.156 2352.76,642.156 \n",
       "  \"/>\n",
       "<polyline clip-path=\"url(#clip752)\" style=\"stroke:#000000; stroke-linecap:round; stroke-linejoin:round; stroke-width:2; stroke-opacity:0.1; fill:none\" points=\"\n",
       "  156.598,334.278 2352.76,334.278 \n",
       "  \"/>\n",
       "<polyline clip-path=\"url(#clip750)\" style=\"stroke:#000000; stroke-linecap:round; stroke-linejoin:round; stroke-width:4; stroke-opacity:1; fill:none\" points=\"\n",
       "  156.598,1486.45 156.598,47.2441 \n",
       "  \"/>\n",
       "<polyline clip-path=\"url(#clip750)\" style=\"stroke:#000000; stroke-linecap:round; stroke-linejoin:round; stroke-width:4; stroke-opacity:1; fill:none\" points=\"\n",
       "  156.598,1257.91 175.496,1257.91 \n",
       "  \"/>\n",
       "<polyline clip-path=\"url(#clip750)\" style=\"stroke:#000000; stroke-linecap:round; stroke-linejoin:round; stroke-width:4; stroke-opacity:1; fill:none\" points=\"\n",
       "  156.598,950.033 175.496,950.033 \n",
       "  \"/>\n",
       "<polyline clip-path=\"url(#clip750)\" style=\"stroke:#000000; stroke-linecap:round; stroke-linejoin:round; stroke-width:4; stroke-opacity:1; fill:none\" points=\"\n",
       "  156.598,642.156 175.496,642.156 \n",
       "  \"/>\n",
       "<polyline clip-path=\"url(#clip750)\" style=\"stroke:#000000; stroke-linecap:round; stroke-linejoin:round; stroke-width:4; stroke-opacity:1; fill:none\" points=\"\n",
       "  156.598,334.278 175.496,334.278 \n",
       "  \"/>\n",
       "<path clip-path=\"url(#clip750)\" d=\"M64.6495 1243.71 Q61.0384 1243.71 59.2097 1247.27 Q57.4041 1250.82 57.4041 1257.95 Q57.4041 1265.05 59.2097 1268.62 Q61.0384 1272.16 64.6495 1272.16 Q68.2837 1272.16 70.0892 1268.62 Q71.9179 1265.05 71.9179 1257.95 Q71.9179 1250.82 70.0892 1247.27 Q68.2837 1243.71 64.6495 1243.71 M64.6495 1240.01 Q70.4596 1240.01 73.5152 1244.61 Q76.5938 1249.2 76.5938 1257.95 Q76.5938 1266.67 73.5152 1271.28 Q70.4596 1275.86 64.6495 1275.86 Q58.8393 1275.86 55.7606 1271.28 Q52.7051 1266.67 52.7051 1257.95 Q52.7051 1249.2 55.7606 1244.61 Q58.8393 1240.01 64.6495 1240.01 Z\" fill=\"#000000\" fill-rule=\"evenodd\" fill-opacity=\"1\" /><path clip-path=\"url(#clip750)\" d=\"M84.8114 1269.31 L89.6956 1269.31 L89.6956 1275.19 L84.8114 1275.19 L84.8114 1269.31 Z\" fill=\"#000000\" fill-rule=\"evenodd\" fill-opacity=\"1\" /><path clip-path=\"url(#clip750)\" d=\"M100.691 1271.26 L108.33 1271.26 L108.33 1244.89 L100.02 1246.56 L100.02 1242.3 L108.283 1240.63 L112.959 1240.63 L112.959 1271.26 L120.598 1271.26 L120.598 1275.19 L100.691 1275.19 L100.691 1271.26 Z\" fill=\"#000000\" fill-rule=\"evenodd\" fill-opacity=\"1\" /><path clip-path=\"url(#clip750)\" d=\"M65.0198 935.832 Q61.4087 935.832 59.58 939.397 Q57.7745 942.938 57.7745 950.068 Q57.7745 957.174 59.58 960.739 Q61.4087 964.281 65.0198 964.281 Q68.6541 964.281 70.4596 960.739 Q72.2883 957.174 72.2883 950.068 Q72.2883 942.938 70.4596 939.397 Q68.6541 935.832 65.0198 935.832 M65.0198 932.128 Q70.83 932.128 73.8855 936.735 Q76.9642 941.318 76.9642 950.068 Q76.9642 958.795 73.8855 963.401 Q70.83 967.984 65.0198 967.984 Q59.2097 967.984 56.131 963.401 Q53.0754 958.795 53.0754 950.068 Q53.0754 941.318 56.131 936.735 Q59.2097 932.128 65.0198 932.128 Z\" fill=\"#000000\" fill-rule=\"evenodd\" fill-opacity=\"1\" /><path clip-path=\"url(#clip750)\" d=\"M85.1818 961.433 L90.066 961.433 L90.066 967.313 L85.1818 967.313 L85.1818 961.433 Z\" fill=\"#000000\" fill-rule=\"evenodd\" fill-opacity=\"1\" /><path clip-path=\"url(#clip750)\" d=\"M104.279 963.378 L120.598 963.378 L120.598 967.313 L98.6539 967.313 L98.6539 963.378 Q101.316 960.623 105.899 955.994 Q110.506 951.341 111.686 949.998 Q113.932 947.475 114.811 945.739 Q115.714 943.98 115.714 942.29 Q115.714 939.535 113.77 937.799 Q111.848 936.063 108.746 936.063 Q106.547 936.063 104.094 936.827 Q101.663 937.591 98.8854 939.142 L98.8854 934.42 Q101.709 933.285 104.163 932.707 Q106.617 932.128 108.654 932.128 Q114.024 932.128 117.219 934.813 Q120.413 937.498 120.413 941.989 Q120.413 944.119 119.603 946.04 Q118.816 947.938 116.709 950.531 Q116.131 951.202 113.029 954.42 Q109.927 957.614 104.279 963.378 Z\" fill=\"#000000\" fill-rule=\"evenodd\" fill-opacity=\"1\" /><path clip-path=\"url(#clip750)\" d=\"M64.0708 627.954 Q60.4597 627.954 58.631 631.519 Q56.8254 635.061 56.8254 642.19 Q56.8254 649.297 58.631 652.862 Q60.4597 656.403 64.0708 656.403 Q67.705 656.403 69.5105 652.862 Q71.3392 649.297 71.3392 642.19 Q71.3392 635.061 69.5105 631.519 Q67.705 627.954 64.0708 627.954 M64.0708 624.251 Q69.8809 624.251 72.9365 628.857 Q76.0151 633.44 76.0151 642.19 Q76.0151 650.917 72.9365 655.524 Q69.8809 660.107 64.0708 660.107 Q58.2606 660.107 55.1819 655.524 Q52.1264 650.917 52.1264 642.19 Q52.1264 633.44 55.1819 628.857 Q58.2606 624.251 64.0708 624.251 Z\" fill=\"#000000\" fill-rule=\"evenodd\" fill-opacity=\"1\" /><path clip-path=\"url(#clip750)\" d=\"M84.2327 653.556 L89.1169 653.556 L89.1169 659.436 L84.2327 659.436 L84.2327 653.556 Z\" fill=\"#000000\" fill-rule=\"evenodd\" fill-opacity=\"1\" /><path clip-path=\"url(#clip750)\" d=\"M113.469 640.801 Q116.825 641.519 118.7 643.788 Q120.598 646.056 120.598 649.389 Q120.598 654.505 117.08 657.306 Q113.561 660.107 107.08 660.107 Q104.904 660.107 102.589 659.667 Q100.297 659.25 97.8437 658.394 L97.8437 653.88 Q99.7882 655.014 102.103 655.593 Q104.418 656.172 106.941 656.172 Q111.339 656.172 113.631 654.436 Q115.945 652.7 115.945 649.389 Q115.945 646.334 113.793 644.621 Q111.663 642.885 107.844 642.885 L103.816 642.885 L103.816 639.042 L108.029 639.042 Q111.478 639.042 113.307 637.676 Q115.135 636.288 115.135 633.695 Q115.135 631.033 113.237 629.621 Q111.362 628.186 107.844 628.186 Q105.922 628.186 103.723 628.602 Q101.524 629.019 98.8854 629.899 L98.8854 625.732 Q101.547 624.991 103.862 624.621 Q106.2 624.251 108.26 624.251 Q113.584 624.251 116.686 626.681 Q119.788 629.089 119.788 633.209 Q119.788 636.079 118.145 638.07 Q116.501 640.038 113.469 640.801 Z\" fill=\"#000000\" fill-rule=\"evenodd\" fill-opacity=\"1\" /><path clip-path=\"url(#clip750)\" d=\"M62.9365 320.077 Q59.3254 320.077 57.4967 323.642 Q55.6912 327.183 55.6912 334.313 Q55.6912 341.419 57.4967 344.984 Q59.3254 348.526 62.9365 348.526 Q66.5707 348.526 68.3763 344.984 Q70.205 341.419 70.205 334.313 Q70.205 327.183 68.3763 323.642 Q66.5707 320.077 62.9365 320.077 M62.9365 316.373 Q68.7467 316.373 71.8022 320.98 Q74.8809 325.563 74.8809 334.313 Q74.8809 343.04 71.8022 347.646 Q68.7467 352.23 62.9365 352.23 Q57.1264 352.23 54.0477 347.646 Q50.9921 343.04 50.9921 334.313 Q50.9921 325.563 54.0477 320.98 Q57.1264 316.373 62.9365 316.373 Z\" fill=\"#000000\" fill-rule=\"evenodd\" fill-opacity=\"1\" /><path clip-path=\"url(#clip750)\" d=\"M83.0984 345.679 L87.9827 345.679 L87.9827 351.558 L83.0984 351.558 L83.0984 345.679 Z\" fill=\"#000000\" fill-rule=\"evenodd\" fill-opacity=\"1\" /><path clip-path=\"url(#clip750)\" d=\"M111.015 321.072 L99.2095 339.521 L111.015 339.521 L111.015 321.072 M109.788 316.998 L115.668 316.998 L115.668 339.521 L120.598 339.521 L120.598 343.41 L115.668 343.41 L115.668 351.558 L111.015 351.558 L111.015 343.41 L95.4132 343.41 L95.4132 338.896 L109.788 316.998 Z\" fill=\"#000000\" fill-rule=\"evenodd\" fill-opacity=\"1\" /><circle clip-path=\"url(#clip752)\" cx=\"218.754\" cy=\"1445.72\" r=\"14.4\" fill=\"#009af9\" fill-rule=\"evenodd\" fill-opacity=\"1\" stroke=\"#000000\" stroke-opacity=\"1\" stroke-width=\"3.2\"/>\n",
       "<circle clip-path=\"url(#clip752)\" cx=\"2290.6\" cy=\"87.9763\" r=\"14.4\" fill=\"#009af9\" fill-rule=\"evenodd\" fill-opacity=\"1\" stroke=\"#000000\" stroke-opacity=\"1\" stroke-width=\"3.2\"/>\n",
       "</svg>\n"
      ],
      "text/html": [
       "<?xml version=\"1.0\" encoding=\"utf-8\"?>\n",
       "<svg xmlns=\"http://www.w3.org/2000/svg\" xmlns:xlink=\"http://www.w3.org/1999/xlink\" width=\"600\" height=\"400\" viewBox=\"0 0 2400 1600\">\n",
       "<defs>\n",
       "  <clipPath id=\"clip800\">\n",
       "    <rect x=\"0\" y=\"0\" width=\"2400\" height=\"1600\"/>\n",
       "  </clipPath>\n",
       "</defs>\n",
       "<path clip-path=\"url(#clip800)\" d=\"\n",
       "M0 1600 L2400 1600 L2400 0 L0 0  Z\n",
       "  \" fill=\"#ffffff\" fill-rule=\"evenodd\" fill-opacity=\"1\"/>\n",
       "<defs>\n",
       "  <clipPath id=\"clip801\">\n",
       "    <rect x=\"480\" y=\"0\" width=\"1681\" height=\"1600\"/>\n",
       "  </clipPath>\n",
       "</defs>\n",
       "<path clip-path=\"url(#clip800)\" d=\"\n",
       "M156.598 1486.45 L2352.76 1486.45 L2352.76 47.2441 L156.598 47.2441  Z\n",
       "  \" fill=\"#ffffff\" fill-rule=\"evenodd\" fill-opacity=\"1\"/>\n",
       "<defs>\n",
       "  <clipPath id=\"clip802\">\n",
       "    <rect x=\"156\" y=\"47\" width=\"2197\" height=\"1440\"/>\n",
       "  </clipPath>\n",
       "</defs>\n",
       "<polyline clip-path=\"url(#clip802)\" style=\"stroke:#000000; stroke-linecap:round; stroke-linejoin:round; stroke-width:2; stroke-opacity:0.1; fill:none\" points=\"\n",
       "  306.544,1486.45 306.544,47.2441 \n",
       "  \"/>\n",
       "<polyline clip-path=\"url(#clip802)\" style=\"stroke:#000000; stroke-linecap:round; stroke-linejoin:round; stroke-width:2; stroke-opacity:0.1; fill:none\" points=\"\n",
       "  745.494,1486.45 745.494,47.2441 \n",
       "  \"/>\n",
       "<polyline clip-path=\"url(#clip802)\" style=\"stroke:#000000; stroke-linecap:round; stroke-linejoin:round; stroke-width:2; stroke-opacity:0.1; fill:none\" points=\"\n",
       "  1184.44,1486.45 1184.44,47.2441 \n",
       "  \"/>\n",
       "<polyline clip-path=\"url(#clip802)\" style=\"stroke:#000000; stroke-linecap:round; stroke-linejoin:round; stroke-width:2; stroke-opacity:0.1; fill:none\" points=\"\n",
       "  1623.4,1486.45 1623.4,47.2441 \n",
       "  \"/>\n",
       "<polyline clip-path=\"url(#clip802)\" style=\"stroke:#000000; stroke-linecap:round; stroke-linejoin:round; stroke-width:2; stroke-opacity:0.1; fill:none\" points=\"\n",
       "  2062.35,1486.45 2062.35,47.2441 \n",
       "  \"/>\n",
       "<polyline clip-path=\"url(#clip800)\" style=\"stroke:#000000; stroke-linecap:round; stroke-linejoin:round; stroke-width:4; stroke-opacity:1; fill:none\" points=\"\n",
       "  156.598,1486.45 2352.76,1486.45 \n",
       "  \"/>\n",
       "<polyline clip-path=\"url(#clip800)\" style=\"stroke:#000000; stroke-linecap:round; stroke-linejoin:round; stroke-width:4; stroke-opacity:1; fill:none\" points=\"\n",
       "  306.544,1486.45 306.544,1467.55 \n",
       "  \"/>\n",
       "<polyline clip-path=\"url(#clip800)\" style=\"stroke:#000000; stroke-linecap:round; stroke-linejoin:round; stroke-width:4; stroke-opacity:1; fill:none\" points=\"\n",
       "  745.494,1486.45 745.494,1467.55 \n",
       "  \"/>\n",
       "<polyline clip-path=\"url(#clip800)\" style=\"stroke:#000000; stroke-linecap:round; stroke-linejoin:round; stroke-width:4; stroke-opacity:1; fill:none\" points=\"\n",
       "  1184.44,1486.45 1184.44,1467.55 \n",
       "  \"/>\n",
       "<polyline clip-path=\"url(#clip800)\" style=\"stroke:#000000; stroke-linecap:round; stroke-linejoin:round; stroke-width:4; stroke-opacity:1; fill:none\" points=\"\n",
       "  1623.4,1486.45 1623.4,1467.55 \n",
       "  \"/>\n",
       "<polyline clip-path=\"url(#clip800)\" style=\"stroke:#000000; stroke-linecap:round; stroke-linejoin:round; stroke-width:4; stroke-opacity:1; fill:none\" points=\"\n",
       "  2062.35,1486.45 2062.35,1467.55 \n",
       "  \"/>\n",
       "<path clip-path=\"url(#clip800)\" d=\"M238.489 1532.02 L268.164 1532.02 L268.164 1535.95 L238.489 1535.95 L238.489 1532.02 Z\" fill=\"#000000\" fill-rule=\"evenodd\" fill-opacity=\"1\" /><path clip-path=\"url(#clip800)\" d=\"M288.257 1517.37 Q284.646 1517.37 282.817 1520.93 Q281.011 1524.47 281.011 1531.6 Q281.011 1538.71 282.817 1542.27 Q284.646 1545.82 288.257 1545.82 Q291.891 1545.82 293.697 1542.27 Q295.525 1538.71 295.525 1531.6 Q295.525 1524.47 293.697 1520.93 Q291.891 1517.37 288.257 1517.37 M288.257 1513.66 Q294.067 1513.66 297.123 1518.27 Q300.201 1522.85 300.201 1531.6 Q300.201 1540.33 297.123 1544.94 Q294.067 1549.52 288.257 1549.52 Q282.447 1549.52 279.368 1544.94 Q276.312 1540.33 276.312 1531.6 Q276.312 1522.85 279.368 1518.27 Q282.447 1513.66 288.257 1513.66 Z\" fill=\"#000000\" fill-rule=\"evenodd\" fill-opacity=\"1\" /><path clip-path=\"url(#clip800)\" d=\"M308.419 1542.97 L313.303 1542.97 L313.303 1548.85 L308.419 1548.85 L308.419 1542.97 Z\" fill=\"#000000\" fill-rule=\"evenodd\" fill-opacity=\"1\" /><path clip-path=\"url(#clip800)\" d=\"M337.655 1530.21 Q341.011 1530.93 342.886 1533.2 Q344.784 1535.47 344.784 1538.8 Q344.784 1543.92 341.266 1546.72 Q337.747 1549.52 331.266 1549.52 Q329.09 1549.52 326.775 1549.08 Q324.483 1548.66 322.03 1547.81 L322.03 1543.29 Q323.974 1544.43 326.289 1545.01 Q328.604 1545.58 331.127 1545.58 Q335.525 1545.58 337.817 1543.85 Q340.132 1542.11 340.132 1538.8 Q340.132 1535.75 337.979 1534.03 Q335.849 1532.3 332.03 1532.3 L328.002 1532.3 L328.002 1528.45 L332.215 1528.45 Q335.664 1528.45 337.493 1527.09 Q339.321 1525.7 339.321 1523.11 Q339.321 1520.45 337.423 1519.03 Q335.548 1517.6 332.03 1517.6 Q330.108 1517.6 327.909 1518.01 Q325.71 1518.43 323.071 1519.31 L323.071 1515.14 Q325.733 1514.4 328.048 1514.03 Q330.386 1513.66 332.446 1513.66 Q337.77 1513.66 340.872 1516.09 Q343.974 1518.5 343.974 1522.62 Q343.974 1525.49 342.331 1527.48 Q340.687 1529.45 337.655 1530.21 Z\" fill=\"#000000\" fill-rule=\"evenodd\" fill-opacity=\"1\" /><path clip-path=\"url(#clip800)\" d=\"M353.696 1514.29 L372.053 1514.29 L372.053 1518.22 L357.979 1518.22 L357.979 1526.7 Q358.997 1526.35 360.016 1526.19 Q361.034 1526 362.053 1526 Q367.84 1526 371.219 1529.17 Q374.599 1532.34 374.599 1537.76 Q374.599 1543.34 371.127 1546.44 Q367.655 1549.52 361.335 1549.52 Q359.159 1549.52 356.891 1549.15 Q354.645 1548.78 352.238 1548.04 L352.238 1543.34 Q354.321 1544.47 356.543 1545.03 Q358.766 1545.58 361.243 1545.58 Q365.247 1545.58 367.585 1543.48 Q369.923 1541.37 369.923 1537.76 Q369.923 1534.15 367.585 1532.04 Q365.247 1529.94 361.243 1529.94 Q359.368 1529.94 357.493 1530.35 Q355.641 1530.77 353.696 1531.65 L353.696 1514.29 Z\" fill=\"#000000\" fill-rule=\"evenodd\" fill-opacity=\"1\" /><path clip-path=\"url(#clip800)\" d=\"M676.941 1532.02 L706.617 1532.02 L706.617 1535.95 L676.941 1535.95 L676.941 1532.02 Z\" fill=\"#000000\" fill-rule=\"evenodd\" fill-opacity=\"1\" /><path clip-path=\"url(#clip800)\" d=\"M726.71 1517.37 Q723.099 1517.37 721.27 1520.93 Q719.464 1524.47 719.464 1531.6 Q719.464 1538.71 721.27 1542.27 Q723.099 1545.82 726.71 1545.82 Q730.344 1545.82 732.15 1542.27 Q733.978 1538.71 733.978 1531.6 Q733.978 1524.47 732.15 1520.93 Q730.344 1517.37 726.71 1517.37 M726.71 1513.66 Q732.52 1513.66 735.575 1518.27 Q738.654 1522.85 738.654 1531.6 Q738.654 1540.33 735.575 1544.94 Q732.52 1549.52 726.71 1549.52 Q720.9 1549.52 717.821 1544.94 Q714.765 1540.33 714.765 1531.6 Q714.765 1522.85 717.821 1518.27 Q720.9 1513.66 726.71 1513.66 Z\" fill=\"#000000\" fill-rule=\"evenodd\" fill-opacity=\"1\" /><path clip-path=\"url(#clip800)\" d=\"M746.872 1542.97 L751.756 1542.97 L751.756 1548.85 L746.872 1548.85 L746.872 1542.97 Z\" fill=\"#000000\" fill-rule=\"evenodd\" fill-opacity=\"1\" /><path clip-path=\"url(#clip800)\" d=\"M776.108 1530.21 Q779.464 1530.93 781.339 1533.2 Q783.237 1535.47 783.237 1538.8 Q783.237 1543.92 779.719 1546.72 Q776.2 1549.52 769.719 1549.52 Q767.543 1549.52 765.228 1549.08 Q762.936 1548.66 760.483 1547.81 L760.483 1543.29 Q762.427 1544.43 764.742 1545.01 Q767.057 1545.58 769.58 1545.58 Q773.978 1545.58 776.27 1543.85 Q778.584 1542.11 778.584 1538.8 Q778.584 1535.75 776.432 1534.03 Q774.302 1532.3 770.483 1532.3 L766.455 1532.3 L766.455 1528.45 L770.668 1528.45 Q774.117 1528.45 775.946 1527.09 Q777.774 1525.7 777.774 1523.11 Q777.774 1520.45 775.876 1519.03 Q774.001 1517.6 770.483 1517.6 Q768.561 1517.6 766.362 1518.01 Q764.163 1518.43 761.524 1519.31 L761.524 1515.14 Q764.186 1514.4 766.501 1514.03 Q768.839 1513.66 770.899 1513.66 Q776.223 1513.66 779.325 1516.09 Q782.427 1518.5 782.427 1522.62 Q782.427 1525.49 780.784 1527.48 Q779.14 1529.45 776.108 1530.21 Z\" fill=\"#000000\" fill-rule=\"evenodd\" fill-opacity=\"1\" /><path clip-path=\"url(#clip800)\" d=\"M802.103 1517.37 Q798.492 1517.37 796.663 1520.93 Q794.858 1524.47 794.858 1531.6 Q794.858 1538.71 796.663 1542.27 Q798.492 1545.82 802.103 1545.82 Q805.737 1545.82 807.543 1542.27 Q809.371 1538.71 809.371 1531.6 Q809.371 1524.47 807.543 1520.93 Q805.737 1517.37 802.103 1517.37 M802.103 1513.66 Q807.913 1513.66 810.969 1518.27 Q814.047 1522.85 814.047 1531.6 Q814.047 1540.33 810.969 1544.94 Q807.913 1549.52 802.103 1549.52 Q796.293 1549.52 793.214 1544.94 Q790.158 1540.33 790.158 1531.6 Q790.158 1522.85 793.214 1518.27 Q796.293 1513.66 802.103 1513.66 Z\" fill=\"#000000\" fill-rule=\"evenodd\" fill-opacity=\"1\" /><path clip-path=\"url(#clip800)\" d=\"M1116.39 1532.02 L1146.07 1532.02 L1146.07 1535.95 L1116.39 1535.95 L1116.39 1532.02 Z\" fill=\"#000000\" fill-rule=\"evenodd\" fill-opacity=\"1\" /><path clip-path=\"url(#clip800)\" d=\"M1166.16 1517.37 Q1162.55 1517.37 1160.72 1520.93 Q1158.91 1524.47 1158.91 1531.6 Q1158.91 1538.71 1160.72 1542.27 Q1162.55 1545.82 1166.16 1545.82 Q1169.79 1545.82 1171.6 1542.27 Q1173.43 1538.71 1173.43 1531.6 Q1173.43 1524.47 1171.6 1520.93 Q1169.79 1517.37 1166.16 1517.37 M1166.16 1513.66 Q1171.97 1513.66 1175.02 1518.27 Q1178.1 1522.85 1178.1 1531.6 Q1178.1 1540.33 1175.02 1544.94 Q1171.97 1549.52 1166.16 1549.52 Q1160.35 1549.52 1157.27 1544.94 Q1154.21 1540.33 1154.21 1531.6 Q1154.21 1522.85 1157.27 1518.27 Q1160.35 1513.66 1166.16 1513.66 Z\" fill=\"#000000\" fill-rule=\"evenodd\" fill-opacity=\"1\" /><path clip-path=\"url(#clip800)\" d=\"M1186.32 1542.97 L1191.2 1542.97 L1191.2 1548.85 L1186.32 1548.85 L1186.32 1542.97 Z\" fill=\"#000000\" fill-rule=\"evenodd\" fill-opacity=\"1\" /><path clip-path=\"url(#clip800)\" d=\"M1205.42 1544.91 L1221.74 1544.91 L1221.74 1548.85 L1199.79 1548.85 L1199.79 1544.91 Q1202.45 1542.16 1207.04 1537.53 Q1211.64 1532.88 1212.82 1531.53 Q1215.07 1529.01 1215.95 1527.27 Q1216.85 1525.51 1216.85 1523.82 Q1216.85 1521.07 1214.91 1519.33 Q1212.99 1517.6 1209.88 1517.6 Q1207.69 1517.6 1205.23 1518.36 Q1202.8 1519.13 1200.02 1520.68 L1200.02 1515.95 Q1202.85 1514.82 1205.3 1514.24 Q1207.76 1513.66 1209.79 1513.66 Q1215.16 1513.66 1218.36 1516.35 Q1221.55 1519.03 1221.55 1523.52 Q1221.55 1525.65 1220.74 1527.57 Q1219.95 1529.47 1217.85 1532.07 Q1217.27 1532.74 1214.17 1535.95 Q1211.07 1539.15 1205.42 1544.91 Z\" fill=\"#000000\" fill-rule=\"evenodd\" fill-opacity=\"1\" /><path clip-path=\"url(#clip800)\" d=\"M1231.6 1514.29 L1249.95 1514.29 L1249.95 1518.22 L1235.88 1518.22 L1235.88 1526.7 Q1236.9 1526.35 1237.92 1526.19 Q1238.94 1526 1239.95 1526 Q1245.74 1526 1249.12 1529.17 Q1252.5 1532.34 1252.5 1537.76 Q1252.5 1543.34 1249.03 1546.44 Q1245.56 1549.52 1239.24 1549.52 Q1237.06 1549.52 1234.79 1549.15 Q1232.55 1548.78 1230.14 1548.04 L1230.14 1543.34 Q1232.22 1544.47 1234.44 1545.03 Q1236.67 1545.58 1239.14 1545.58 Q1243.15 1545.58 1245.49 1543.48 Q1247.82 1541.37 1247.82 1537.76 Q1247.82 1534.15 1245.49 1532.04 Q1243.15 1529.94 1239.14 1529.94 Q1237.27 1529.94 1235.39 1530.35 Q1233.54 1530.77 1231.6 1531.65 L1231.6 1514.29 Z\" fill=\"#000000\" fill-rule=\"evenodd\" fill-opacity=\"1\" /><path clip-path=\"url(#clip800)\" d=\"M1554.84 1532.02 L1584.52 1532.02 L1584.52 1535.95 L1554.84 1535.95 L1554.84 1532.02 Z\" fill=\"#000000\" fill-rule=\"evenodd\" fill-opacity=\"1\" /><path clip-path=\"url(#clip800)\" d=\"M1604.61 1517.37 Q1601 1517.37 1599.17 1520.93 Q1597.37 1524.47 1597.37 1531.6 Q1597.37 1538.71 1599.17 1542.27 Q1601 1545.82 1604.61 1545.82 Q1608.25 1545.82 1610.05 1542.27 Q1611.88 1538.71 1611.88 1531.6 Q1611.88 1524.47 1610.05 1520.93 Q1608.25 1517.37 1604.61 1517.37 M1604.61 1513.66 Q1610.42 1513.66 1613.48 1518.27 Q1616.56 1522.85 1616.56 1531.6 Q1616.56 1540.33 1613.48 1544.94 Q1610.42 1549.52 1604.61 1549.52 Q1598.8 1549.52 1595.72 1544.94 Q1592.67 1540.33 1592.67 1531.6 Q1592.67 1522.85 1595.72 1518.27 Q1598.8 1513.66 1604.61 1513.66 Z\" fill=\"#000000\" fill-rule=\"evenodd\" fill-opacity=\"1\" /><path clip-path=\"url(#clip800)\" d=\"M1624.77 1542.97 L1629.66 1542.97 L1629.66 1548.85 L1624.77 1548.85 L1624.77 1542.97 Z\" fill=\"#000000\" fill-rule=\"evenodd\" fill-opacity=\"1\" /><path clip-path=\"url(#clip800)\" d=\"M1643.87 1544.91 L1660.19 1544.91 L1660.19 1548.85 L1638.25 1548.85 L1638.25 1544.91 Q1640.91 1542.16 1645.49 1537.53 Q1650.1 1532.88 1651.28 1531.53 Q1653.52 1529.01 1654.4 1527.27 Q1655.31 1525.51 1655.31 1523.82 Q1655.31 1521.07 1653.36 1519.33 Q1651.44 1517.6 1648.34 1517.6 Q1646.14 1517.6 1643.68 1518.36 Q1641.25 1519.13 1638.48 1520.68 L1638.48 1515.95 Q1641.3 1514.82 1643.75 1514.24 Q1646.21 1513.66 1648.24 1513.66 Q1653.62 1513.66 1656.81 1516.35 Q1660 1519.03 1660 1523.52 Q1660 1525.65 1659.19 1527.57 Q1658.41 1529.47 1656.3 1532.07 Q1655.72 1532.74 1652.62 1535.95 Q1649.52 1539.15 1643.87 1544.91 Z\" fill=\"#000000\" fill-rule=\"evenodd\" fill-opacity=\"1\" /><path clip-path=\"url(#clip800)\" d=\"M1680 1517.37 Q1676.39 1517.37 1674.56 1520.93 Q1672.76 1524.47 1672.76 1531.6 Q1672.76 1538.71 1674.56 1542.27 Q1676.39 1545.82 1680 1545.82 Q1683.64 1545.82 1685.44 1542.27 Q1687.27 1538.71 1687.27 1531.6 Q1687.27 1524.47 1685.44 1520.93 Q1683.64 1517.37 1680 1517.37 M1680 1513.66 Q1685.81 1513.66 1688.87 1518.27 Q1691.95 1522.85 1691.95 1531.6 Q1691.95 1540.33 1688.87 1544.94 Q1685.81 1549.52 1680 1549.52 Q1674.19 1549.52 1671.12 1544.94 Q1668.06 1540.33 1668.06 1531.6 Q1668.06 1522.85 1671.12 1518.27 Q1674.19 1513.66 1680 1513.66 Z\" fill=\"#000000\" fill-rule=\"evenodd\" fill-opacity=\"1\" /><path clip-path=\"url(#clip800)\" d=\"M1994.29 1532.02 L2023.97 1532.02 L2023.97 1535.95 L1994.29 1535.95 L1994.29 1532.02 Z\" fill=\"#000000\" fill-rule=\"evenodd\" fill-opacity=\"1\" /><path clip-path=\"url(#clip800)\" d=\"M2044.06 1517.37 Q2040.45 1517.37 2038.62 1520.93 Q2036.81 1524.47 2036.81 1531.6 Q2036.81 1538.71 2038.62 1542.27 Q2040.45 1545.82 2044.06 1545.82 Q2047.69 1545.82 2049.5 1542.27 Q2051.33 1538.71 2051.33 1531.6 Q2051.33 1524.47 2049.5 1520.93 Q2047.69 1517.37 2044.06 1517.37 M2044.06 1513.66 Q2049.87 1513.66 2052.92 1518.27 Q2056 1522.85 2056 1531.6 Q2056 1540.33 2052.92 1544.94 Q2049.87 1549.52 2044.06 1549.52 Q2038.25 1549.52 2035.17 1544.94 Q2032.11 1540.33 2032.11 1531.6 Q2032.11 1522.85 2035.17 1518.27 Q2038.25 1513.66 2044.06 1513.66 Z\" fill=\"#000000\" fill-rule=\"evenodd\" fill-opacity=\"1\" /><path clip-path=\"url(#clip800)\" d=\"M2064.22 1542.97 L2069.11 1542.97 L2069.11 1548.85 L2064.22 1548.85 L2064.22 1542.97 Z\" fill=\"#000000\" fill-rule=\"evenodd\" fill-opacity=\"1\" /><path clip-path=\"url(#clip800)\" d=\"M2080.1 1544.91 L2087.74 1544.91 L2087.74 1518.55 L2079.43 1520.21 L2079.43 1515.95 L2087.69 1514.29 L2092.37 1514.29 L2092.37 1544.91 L2100.01 1544.91 L2100.01 1548.85 L2080.1 1548.85 L2080.1 1544.91 Z\" fill=\"#000000\" fill-rule=\"evenodd\" fill-opacity=\"1\" /><path clip-path=\"url(#clip800)\" d=\"M2109.5 1514.29 L2127.86 1514.29 L2127.86 1518.22 L2113.78 1518.22 L2113.78 1526.7 Q2114.8 1526.35 2115.82 1526.19 Q2116.84 1526 2117.86 1526 Q2123.64 1526 2127.02 1529.17 Q2130.4 1532.34 2130.4 1537.76 Q2130.4 1543.34 2126.93 1546.44 Q2123.46 1549.52 2117.14 1549.52 Q2114.96 1549.52 2112.69 1549.15 Q2110.45 1548.78 2108.04 1548.04 L2108.04 1543.34 Q2110.12 1544.47 2112.35 1545.03 Q2114.57 1545.58 2117.04 1545.58 Q2121.05 1545.58 2123.39 1543.48 Q2125.73 1541.37 2125.73 1537.76 Q2125.73 1534.15 2123.39 1532.04 Q2121.05 1529.94 2117.04 1529.94 Q2115.17 1529.94 2113.29 1530.35 Q2111.44 1530.77 2109.5 1531.65 L2109.5 1514.29 Z\" fill=\"#000000\" fill-rule=\"evenodd\" fill-opacity=\"1\" /><polyline clip-path=\"url(#clip802)\" style=\"stroke:#000000; stroke-linecap:round; stroke-linejoin:round; stroke-width:2; stroke-opacity:0.1; fill:none\" points=\"\n",
       "  156.598,1257.91 2352.76,1257.91 \n",
       "  \"/>\n",
       "<polyline clip-path=\"url(#clip802)\" style=\"stroke:#000000; stroke-linecap:round; stroke-linejoin:round; stroke-width:2; stroke-opacity:0.1; fill:none\" points=\"\n",
       "  156.598,950.033 2352.76,950.033 \n",
       "  \"/>\n",
       "<polyline clip-path=\"url(#clip802)\" style=\"stroke:#000000; stroke-linecap:round; stroke-linejoin:round; stroke-width:2; stroke-opacity:0.1; fill:none\" points=\"\n",
       "  156.598,642.156 2352.76,642.156 \n",
       "  \"/>\n",
       "<polyline clip-path=\"url(#clip802)\" style=\"stroke:#000000; stroke-linecap:round; stroke-linejoin:round; stroke-width:2; stroke-opacity:0.1; fill:none\" points=\"\n",
       "  156.598,334.278 2352.76,334.278 \n",
       "  \"/>\n",
       "<polyline clip-path=\"url(#clip800)\" style=\"stroke:#000000; stroke-linecap:round; stroke-linejoin:round; stroke-width:4; stroke-opacity:1; fill:none\" points=\"\n",
       "  156.598,1486.45 156.598,47.2441 \n",
       "  \"/>\n",
       "<polyline clip-path=\"url(#clip800)\" style=\"stroke:#000000; stroke-linecap:round; stroke-linejoin:round; stroke-width:4; stroke-opacity:1; fill:none\" points=\"\n",
       "  156.598,1257.91 175.496,1257.91 \n",
       "  \"/>\n",
       "<polyline clip-path=\"url(#clip800)\" style=\"stroke:#000000; stroke-linecap:round; stroke-linejoin:round; stroke-width:4; stroke-opacity:1; fill:none\" points=\"\n",
       "  156.598,950.033 175.496,950.033 \n",
       "  \"/>\n",
       "<polyline clip-path=\"url(#clip800)\" style=\"stroke:#000000; stroke-linecap:round; stroke-linejoin:round; stroke-width:4; stroke-opacity:1; fill:none\" points=\"\n",
       "  156.598,642.156 175.496,642.156 \n",
       "  \"/>\n",
       "<polyline clip-path=\"url(#clip800)\" style=\"stroke:#000000; stroke-linecap:round; stroke-linejoin:round; stroke-width:4; stroke-opacity:1; fill:none\" points=\"\n",
       "  156.598,334.278 175.496,334.278 \n",
       "  \"/>\n",
       "<path clip-path=\"url(#clip800)\" d=\"M64.6495 1243.71 Q61.0384 1243.71 59.2097 1247.27 Q57.4041 1250.82 57.4041 1257.95 Q57.4041 1265.05 59.2097 1268.62 Q61.0384 1272.16 64.6495 1272.16 Q68.2837 1272.16 70.0892 1268.62 Q71.9179 1265.05 71.9179 1257.95 Q71.9179 1250.82 70.0892 1247.27 Q68.2837 1243.71 64.6495 1243.71 M64.6495 1240.01 Q70.4596 1240.01 73.5152 1244.61 Q76.5938 1249.2 76.5938 1257.95 Q76.5938 1266.67 73.5152 1271.28 Q70.4596 1275.86 64.6495 1275.86 Q58.8393 1275.86 55.7606 1271.28 Q52.7051 1266.67 52.7051 1257.95 Q52.7051 1249.2 55.7606 1244.61 Q58.8393 1240.01 64.6495 1240.01 Z\" fill=\"#000000\" fill-rule=\"evenodd\" fill-opacity=\"1\" /><path clip-path=\"url(#clip800)\" d=\"M84.8114 1269.31 L89.6956 1269.31 L89.6956 1275.19 L84.8114 1275.19 L84.8114 1269.31 Z\" fill=\"#000000\" fill-rule=\"evenodd\" fill-opacity=\"1\" /><path clip-path=\"url(#clip800)\" d=\"M100.691 1271.26 L108.33 1271.26 L108.33 1244.89 L100.02 1246.56 L100.02 1242.3 L108.283 1240.63 L112.959 1240.63 L112.959 1271.26 L120.598 1271.26 L120.598 1275.19 L100.691 1275.19 L100.691 1271.26 Z\" fill=\"#000000\" fill-rule=\"evenodd\" fill-opacity=\"1\" /><path clip-path=\"url(#clip800)\" d=\"M65.0198 935.832 Q61.4087 935.832 59.58 939.397 Q57.7745 942.938 57.7745 950.068 Q57.7745 957.174 59.58 960.739 Q61.4087 964.281 65.0198 964.281 Q68.6541 964.281 70.4596 960.739 Q72.2883 957.174 72.2883 950.068 Q72.2883 942.938 70.4596 939.397 Q68.6541 935.832 65.0198 935.832 M65.0198 932.128 Q70.83 932.128 73.8855 936.735 Q76.9642 941.318 76.9642 950.068 Q76.9642 958.795 73.8855 963.401 Q70.83 967.984 65.0198 967.984 Q59.2097 967.984 56.131 963.401 Q53.0754 958.795 53.0754 950.068 Q53.0754 941.318 56.131 936.735 Q59.2097 932.128 65.0198 932.128 Z\" fill=\"#000000\" fill-rule=\"evenodd\" fill-opacity=\"1\" /><path clip-path=\"url(#clip800)\" d=\"M85.1818 961.433 L90.066 961.433 L90.066 967.313 L85.1818 967.313 L85.1818 961.433 Z\" fill=\"#000000\" fill-rule=\"evenodd\" fill-opacity=\"1\" /><path clip-path=\"url(#clip800)\" d=\"M104.279 963.378 L120.598 963.378 L120.598 967.313 L98.6539 967.313 L98.6539 963.378 Q101.316 960.623 105.899 955.994 Q110.506 951.341 111.686 949.998 Q113.932 947.475 114.811 945.739 Q115.714 943.98 115.714 942.29 Q115.714 939.535 113.77 937.799 Q111.848 936.063 108.746 936.063 Q106.547 936.063 104.094 936.827 Q101.663 937.591 98.8854 939.142 L98.8854 934.42 Q101.709 933.285 104.163 932.707 Q106.617 932.128 108.654 932.128 Q114.024 932.128 117.219 934.813 Q120.413 937.498 120.413 941.989 Q120.413 944.119 119.603 946.04 Q118.816 947.938 116.709 950.531 Q116.131 951.202 113.029 954.42 Q109.927 957.614 104.279 963.378 Z\" fill=\"#000000\" fill-rule=\"evenodd\" fill-opacity=\"1\" /><path clip-path=\"url(#clip800)\" d=\"M64.0708 627.954 Q60.4597 627.954 58.631 631.519 Q56.8254 635.061 56.8254 642.19 Q56.8254 649.297 58.631 652.862 Q60.4597 656.403 64.0708 656.403 Q67.705 656.403 69.5105 652.862 Q71.3392 649.297 71.3392 642.19 Q71.3392 635.061 69.5105 631.519 Q67.705 627.954 64.0708 627.954 M64.0708 624.251 Q69.8809 624.251 72.9365 628.857 Q76.0151 633.44 76.0151 642.19 Q76.0151 650.917 72.9365 655.524 Q69.8809 660.107 64.0708 660.107 Q58.2606 660.107 55.1819 655.524 Q52.1264 650.917 52.1264 642.19 Q52.1264 633.44 55.1819 628.857 Q58.2606 624.251 64.0708 624.251 Z\" fill=\"#000000\" fill-rule=\"evenodd\" fill-opacity=\"1\" /><path clip-path=\"url(#clip800)\" d=\"M84.2327 653.556 L89.1169 653.556 L89.1169 659.436 L84.2327 659.436 L84.2327 653.556 Z\" fill=\"#000000\" fill-rule=\"evenodd\" fill-opacity=\"1\" /><path clip-path=\"url(#clip800)\" d=\"M113.469 640.801 Q116.825 641.519 118.7 643.788 Q120.598 646.056 120.598 649.389 Q120.598 654.505 117.08 657.306 Q113.561 660.107 107.08 660.107 Q104.904 660.107 102.589 659.667 Q100.297 659.25 97.8437 658.394 L97.8437 653.88 Q99.7882 655.014 102.103 655.593 Q104.418 656.172 106.941 656.172 Q111.339 656.172 113.631 654.436 Q115.945 652.7 115.945 649.389 Q115.945 646.334 113.793 644.621 Q111.663 642.885 107.844 642.885 L103.816 642.885 L103.816 639.042 L108.029 639.042 Q111.478 639.042 113.307 637.676 Q115.135 636.288 115.135 633.695 Q115.135 631.033 113.237 629.621 Q111.362 628.186 107.844 628.186 Q105.922 628.186 103.723 628.602 Q101.524 629.019 98.8854 629.899 L98.8854 625.732 Q101.547 624.991 103.862 624.621 Q106.2 624.251 108.26 624.251 Q113.584 624.251 116.686 626.681 Q119.788 629.089 119.788 633.209 Q119.788 636.079 118.145 638.07 Q116.501 640.038 113.469 640.801 Z\" fill=\"#000000\" fill-rule=\"evenodd\" fill-opacity=\"1\" /><path clip-path=\"url(#clip800)\" d=\"M62.9365 320.077 Q59.3254 320.077 57.4967 323.642 Q55.6912 327.183 55.6912 334.313 Q55.6912 341.419 57.4967 344.984 Q59.3254 348.526 62.9365 348.526 Q66.5707 348.526 68.3763 344.984 Q70.205 341.419 70.205 334.313 Q70.205 327.183 68.3763 323.642 Q66.5707 320.077 62.9365 320.077 M62.9365 316.373 Q68.7467 316.373 71.8022 320.98 Q74.8809 325.563 74.8809 334.313 Q74.8809 343.04 71.8022 347.646 Q68.7467 352.23 62.9365 352.23 Q57.1264 352.23 54.0477 347.646 Q50.9921 343.04 50.9921 334.313 Q50.9921 325.563 54.0477 320.98 Q57.1264 316.373 62.9365 316.373 Z\" fill=\"#000000\" fill-rule=\"evenodd\" fill-opacity=\"1\" /><path clip-path=\"url(#clip800)\" d=\"M83.0984 345.679 L87.9827 345.679 L87.9827 351.558 L83.0984 351.558 L83.0984 345.679 Z\" fill=\"#000000\" fill-rule=\"evenodd\" fill-opacity=\"1\" /><path clip-path=\"url(#clip800)\" d=\"M111.015 321.072 L99.2095 339.521 L111.015 339.521 L111.015 321.072 M109.788 316.998 L115.668 316.998 L115.668 339.521 L120.598 339.521 L120.598 343.41 L115.668 343.41 L115.668 351.558 L111.015 351.558 L111.015 343.41 L95.4132 343.41 L95.4132 338.896 L109.788 316.998 Z\" fill=\"#000000\" fill-rule=\"evenodd\" fill-opacity=\"1\" /><circle clip-path=\"url(#clip802)\" cx=\"218.754\" cy=\"1445.72\" r=\"14.4\" fill=\"#009af9\" fill-rule=\"evenodd\" fill-opacity=\"1\" stroke=\"#000000\" stroke-opacity=\"1\" stroke-width=\"3.2\"/>\n",
       "<circle clip-path=\"url(#clip802)\" cx=\"2290.6\" cy=\"87.9763\" r=\"14.4\" fill=\"#009af9\" fill-rule=\"evenodd\" fill-opacity=\"1\" stroke=\"#000000\" stroke-opacity=\"1\" stroke-width=\"3.2\"/>\n",
       "</svg>\n"
      ]
     },
     "metadata": {},
     "output_type": "display_data"
    }
   ],
   "source": [
    "particles_inital_pos = [Particle(rand(-l/2:l/1000:l/2, 2)) for _ in 1:n_particles]\n",
    "\n",
    "\n",
    "# function place_particles_random(N, l)\n",
    "#     particles_inital_pos = SMatrix{2,N}(rand(-l/2))\n",
    "#     for i in -l/2:N:l/2\n",
    "#         for j in -l/2:N:l/2\n",
    "#             particles_inital_pos[i,j] = [i, j]\n",
    "#         end\n",
    "#     end\n",
    "    \n",
    "    \n",
    "#     return particles_inital_pos \n",
    "# end\n",
    "\n",
    "scatter(particles_inital_pos[:][1], particles_inital_pos[:][2], label = false)"
   ]
  },
  {
   "cell_type": "code",
   "execution_count": 169,
   "metadata": {},
   "outputs": [
    {
     "data": {
      "text/plain": [
       "2×2 SMatrix{2, 2, Int64, 4} with indices SOneTo(2)×SOneTo(2):\n",
       " 2  2\n",
       " 2  5"
      ]
     },
     "metadata": {},
     "output_type": "display_data"
    }
   ],
   "source": [
    "SMatrix{2,2}([2 2; 2 5])"
   ]
  },
  {
   "cell_type": "code",
   "execution_count": 342,
   "metadata": {},
   "outputs": [
    {
     "name": "stdout",
     "output_type": "stream",
     "text": [
      "  0.000017 seconds (1 allocation: 32 bytes)\n",
      "  0.000008 seconds (1 allocation: 32 bytes)\n"
     ]
    },
    {
     "data": {
      "text/plain": [
       "2-element SVector{2, Int64} with indices SOneTo(2):\n",
       " 1\n",
       " 2"
      ]
     },
     "metadata": {},
     "output_type": "display_data"
    }
   ],
   "source": [
    "function random_vec(N, l)\n",
    "    particles = [SVector{2}(rand(-l/2:l/N/100:l/2) for _ in 1:2) for _ in 1:N]\n",
    "    return particles\n",
    "end\n",
    "\n",
    "N = 10\n",
    "l = 1\n",
    "p = random_vec(N, l)\n",
    "for i in 1:length(p)\n",
    "    scatter(p[i])\n",
    "end\n",
    "\n",
    "\n",
    "a = SMatrix{100,2}(1:200)\n",
    "b = SMatrix{2,100}(1:200)\n",
    "\n",
    "@time a[1,:]\n",
    "@time b[:,1]"
   ]
  },
  {
   "cell_type": "code",
   "execution_count": 389,
   "metadata": {},
   "outputs": [
    {
     "ename": "ErrorException",
     "evalue": "setindex!(::SVector{10, SVector{2, Int64}}, value, ::Int) is not defined.\n Hint: Use `MArray` or `SizedArray` to create a mutable static array",
     "output_type": "error",
     "traceback": [
      "setindex!(::SVector{10, SVector{2, Int64}}, value, ::Int) is not defined.\n",
      " Hint: Use `MArray` or `SizedArray` to create a mutable static array\n",
      "\n",
      "Stacktrace:\n",
      " [1] error(s::String)\n",
      "   @ Base .\\error.jl:35\n",
      " [2] setindex!(a::SVector{10, SVector{2, Int64}}, value::SVector{2, Int64}, i::Int64)\n",
      "   @ StaticArrays C:\\Users\\oskar\\.julia\\packages\\StaticArrays\\4uslg\\src\\indexing.jl:3\n",
      " [3] top-level scope\n",
      "   @ Untitled-1.ipynb:10"
     ]
    }
   ],
   "source": [
    "a = MMatrix{2,5}(zeros(2,5))\n",
    "a[:,1] = SVector{2}(rand(0:2), rand(0:2))\n",
    "a\n",
    "\n",
    "SMatrix{2,10}(rand(0:1, 2, 10))\n",
    "\n",
    "\n",
    "a = SVector{10}([SVector{2}(rand(0:1, 2)) for _ in 1:10])\n",
    "\n",
    "a[1] += [1,1]"
   ]
  },
  {
   "cell_type": "code",
   "execution_count": 99,
   "metadata": {},
   "outputs": [
    {
     "data": {
      "text/plain": [
       "200×2 Matrix{Float64}:\n",
       " 1.0  1.0\n",
       " 1.0  1.0\n",
       " 1.0  1.0\n",
       " 1.0  1.0\n",
       " 1.0  1.0\n",
       " 1.0  1.0\n",
       " 1.0  1.0\n",
       " 1.0  1.0\n",
       " 1.0  1.0\n",
       " 1.0  1.0\n",
       " ⋮    \n",
       " 1.0  1.0\n",
       " 1.0  1.0\n",
       " 1.0  1.0\n",
       " 1.0  1.0\n",
       " 1.0  1.0\n",
       " 1.0  1.0\n",
       " 1.0  1.0\n",
       " 1.0  1.0\n",
       " 1.0  1.0"
      ]
     },
     "metadata": {},
     "output_type": "display_data"
    }
   ],
   "source": [
    "a = zeros(200, 2)\n",
    "\n",
    "for i in 1:200\n",
    "    if norm(a[i,:]) == 0\n",
    "        a[i,:] = ones(2)\n",
    "    end\n",
    "end\n",
    "a"
   ]
  }
 ],
 "metadata": {
  "kernelspec": {
   "display_name": "Julia 1.8.3",
   "language": "julia",
   "name": "julia-1.8"
  },
  "language_info": {
   "file_extension": ".jl",
   "mimetype": "application/julia",
   "name": "julia",
   "version": "1.8.3"
  },
  "orig_nbformat": 4
 },
 "nbformat": 4,
 "nbformat_minor": 2
}
