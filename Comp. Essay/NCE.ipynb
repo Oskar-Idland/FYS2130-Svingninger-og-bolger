{
 "cells": [
  {
   "cell_type": "code",
   "execution_count": 1,
   "metadata": {},
   "outputs": [],
   "source": [
    "using LinearAlgebra\n",
    "using Plots\n",
    "using StaticArrays\n",
    "using FastPow"
   ]
  },
  {
   "cell_type": "code",
   "execution_count": 67,
   "metadata": {},
   "outputs": [
    {
     "data": {
      "text/plain": [
       "Wave (generic function with 2 methods)"
      ]
     },
     "metadata": {},
     "output_type": "display_data"
    }
   ],
   "source": [
    "function calc_forces(r, N, max_distance)\n",
    "    a = zeros(N,2)\n",
    "    V_LJ = 0\n",
    "    for j ∈ 1:N\n",
    "        for k ∈ j+1:N\n",
    "            if j != k\n",
    "            Δr = r[j,:] .- r[k,:]\n",
    "            r_norm = norm(Δr, 1)\n",
    "            r_norm_sq = r_norm^2\n",
    "                if r_norm < max_distance && r_norm > 0\n",
    "                    @fastpow a[j,:] += (2/r_norm_sq^6  -1/r_norm_sq^3)*Δr/r_norm_sq\n",
    "                    a[k,:] -= a[j,:]\n",
    "                    @fastpow V_LJ += 4*(r_norm_sq^(-6) - r_norm_sq^(-3))                    \n",
    "                end\n",
    "            end\n",
    "        end\n",
    "    end\n",
    "    return a, V_LJ\n",
    "end\n",
    "\n",
    "function sum_forces(r, v, a, dt, N, max_distance)\n",
    "    a_prev = a\n",
    "    r += v*dt + 0.5*a*dt^2\n",
    "    a, V_LJ = calc_forces(r, N, max_distance)\n",
    "    v += 0.5*(a+a_prev)*dt\n",
    "    K = 1/2*norm(v)^2\n",
    "    \n",
    "    return r, v, a, V_LJ, K    \n",
    "end\n",
    "\n",
    "\n",
    "function time_iteration(dt, N, steps, r, v, max_distance)\n",
    "    a = zeros(steps, N, 2)\n",
    "    V_LJ = zeros(steps)\n",
    "    K = zeros(steps)\n",
    "    for i in 1:steps-1\n",
    "        r[i+1,:,:], v[i+1,:,:], a[i+1,:,:], V_LJ[i+1], K[i+1] = sum_forces(r[i,:,:], v[i,:,:], a[i,:,:], dt, N, max_distance)\n",
    "    end\n",
    "    return r, v, V_LJ, K\n",
    "end\n",
    "\n",
    "\n",
    "function initial_particles(N, l, u)\n",
    "    # Generate N particles randomly in a box with side lengths l\n",
    "    # ensuring minimum distance u between each point\n",
    "\n",
    "    # Initialize an empty array to store the particles\n",
    "    particles = zeros(2,N)\n",
    "    println(size(particles[:,1]))\n",
    "    count = 0\n",
    "\n",
    "    # Generate random coordinates for each point\n",
    "    while count < N\n",
    "        x = rand(-l/2:l/1000:l/2)\n",
    "        y = rand(-l/2:l/1000:l/2)\n",
    "\n",
    "        # Check the minimum distance u from each existing point\n",
    "        valid = true\n",
    "        for i in 1:count\n",
    "            if norm([x,y] .- particles[i,:]) < u\n",
    "                valid = false\n",
    "                break\n",
    "            end\n",
    "        end\n",
    "\n",
    "        # Add the point to the matrix if it satisfies the minimum distance constraint\n",
    "        if valid\n",
    "            count += 1\n",
    "            particles[:, count] = [x, y]\n",
    "        end\n",
    "    end\n",
    "    \n",
    "\n",
    "    return particles\n",
    "end\n",
    "\n",
    "\n",
    "function Wave(N, l, u, t, dt)\n",
    "    steps = Int(t/dt)\n",
    "    r_0 = initial_particles(N, l, u)\n",
    "    v_0 = copy(r_0)\n",
    "    for velocity_vector in eachrow(r_0)\n",
    "        if norm(velocity_vector) > 1\n",
    "            veclocity_vector = [0,0]\n",
    "        end\n",
    "    end\n",
    "    \n",
    "    \n",
    "    r = zeros(steps, N, 2)\n",
    "    v = zeros(steps, N, 2)\n",
    "    # print(r_0)\n",
    "    # print(r)\n",
    "    r[1,:,:] = r_0\n",
    "    v[1,:,:] = v_0\n",
    "    return r, v\n",
    "end \n",
    "\n",
    "# struct Simulation\n",
    "#     N:: Int\n",
    "#     l:: Float64\n",
    "#     t:: Float64\n",
    "#     u:: Float64\n",
    "#     dt:: Float64\n",
    "#     steps::Int = (t/dt)\n",
    "# end\n",
    "\n"
   ]
  },
  {
   "cell_type": "code",
   "execution_count": 68,
   "metadata": {},
   "outputs": [
    {
     "name": "stdout",
     "output_type": "stream",
     "text": [
      "(2,)\n"
     ]
    },
    {
     "ename": "DimensionMismatch",
     "evalue": "DimensionMismatch: arrays could not be broadcast to a common size; got a dimension with lengths 2 and 300",
     "output_type": "error",
     "traceback": [
      "DimensionMismatch: arrays could not be broadcast to a common size; got a dimension with lengths 2 and 300\n",
      "\n",
      "Stacktrace:\n",
      " [1] _bcs1\n",
      "   @ .\\broadcast.jl:516 [inlined]\n",
      " [2] _bcs\n",
      "   @ .\\broadcast.jl:510 [inlined]\n",
      " [3] broadcast_shape\n",
      "   @ .\\broadcast.jl:504 [inlined]\n",
      " [4] combine_axes\n",
      "   @ .\\broadcast.jl:499 [inlined]\n",
      " [5] instantiate\n",
      "   @ .\\broadcast.jl:281 [inlined]\n",
      " [6] materialize\n",
      "   @ .\\broadcast.jl:860 [inlined]\n",
      " [7] initial_particles(N::Int64, l::Int64, u::Float64)\n",
      "   @ Main c:\\Users\\oskar\\OneDrive - Universitetet i Oslo\\Dokumenter\\GitHub\\Privat\\FYS2130-Svingninger-og-bolger\\Comp. Essay\\NCE.ipynb:60\n",
      " [8] Wave(N::Int64, l::Int64, u::Float64, t::Float64, dt::Float64)\n",
      "   @ Main c:\\Users\\oskar\\OneDrive - Universitetet i Oslo\\Dokumenter\\GitHub\\Privat\\FYS2130-Svingninger-og-bolger\\Comp. Essay\\NCE.ipynb:80\n",
      " [9] top-level scope\n",
      "   @ c:\\Users\\oskar\\OneDrive - Universitetet i Oslo\\Dokumenter\\GitHub\\Privat\\FYS2130-Svingninger-og-bolger\\Comp. Essay\\NCE.ipynb:8"
     ]
    }
   ],
   "source": [
    "N = 300\n",
    "l = 20\n",
    "t = 0.125\n",
    "dt = 5*10^(-4)\n",
    "min_distance = 0.5\n",
    "max_distance = 3\n",
    "steps = Int(t/dt)\n",
    "r_0, v_0 = Wave(N,l,min_distance,t,dt)\n",
    "\n",
    "@time r, v, V_JL, kinetic_energy = time_iteration(dt, N, steps, r_0, v_0, max_distance)\n",
    "\n",
    "println(typeof(r[1,:,:]))\n",
    "println(size(r))\n",
    "println(sizeof(V_JL))\n",
    "print(sizeof(kinetic_energy))\n"
   ]
  },
  {
   "cell_type": "code",
   "execution_count": 69,
   "metadata": {},
   "outputs": [
    {
     "data": {
      "text/plain": [
       "Circle (generic function with 1 method)"
      ]
     },
     "metadata": {},
     "output_type": "display_data"
    }
   ],
   "source": [
    "function Circle(r)\n",
    "    x = LinRange(0,2π,100)\n",
    "    return r*sin.(x) , r*cos.(x)\n",
    "end"
   ]
  },
  {
   "cell_type": "code",
   "execution_count": 70,
   "metadata": {},
   "outputs": [
    {
     "data": {
      "text/plain": [
       "plot_energy (generic function with 1 method)"
      ]
     },
     "metadata": {},
     "output_type": "display_data"
    }
   ],
   "source": [
    "function plot_particles(r)\n",
    "    @gif for i ∈ 1:steps\n",
    "        rx = r[i,:,1]\n",
    "        ry = r[i,:,2]\n",
    "        scatter(rx,ry, xlim=(-l/2,l/2), ylim=(-l/2,l/2), markersize=2, legend=false)\n",
    "        plot!(Circle(i/10), xlim=(-l/2,l/2), ylim=(-l/2,l/2))\n",
    "    end\n",
    "end\n",
    "\n",
    "\n",
    "function plot_energy(U, K, T, steps)\n",
    "    t = LinRange(0, T, steps)\n",
    "    plot(t, U, label='U')\n",
    "    plot!(t, K, label='K')\n",
    "    plot!(t, (U+K), label='E')\n",
    "end"
   ]
  },
  {
   "cell_type": "code",
   "execution_count": 71,
   "metadata": {},
   "outputs": [
    {
     "ename": "UndefVarError",
     "evalue": "UndefVarError: r not defined",
     "output_type": "error",
     "traceback": [
      "UndefVarError: r not defined\n",
      "\n",
      "Stacktrace:\n",
      " [1] top-level scope\n",
      "   @ c:\\Users\\oskar\\OneDrive - Universitetet i Oslo\\Dokumenter\\GitHub\\Privat\\FYS2130-Svingninger-og-bolger\\Comp. Essay\\NCE.ipynb:1"
     ]
    }
   ],
   "source": [
    "plot_particles(r)"
   ]
  },
  {
   "cell_type": "code",
   "execution_count": 72,
   "metadata": {},
   "outputs": [
    {
     "ename": "UndefVarError",
     "evalue": "UndefVarError: V_JL not defined",
     "output_type": "error",
     "traceback": [
      "UndefVarError: V_JL not defined\n",
      "\n",
      "Stacktrace:\n",
      " [1] top-level scope\n",
      "   @ c:\\Users\\oskar\\OneDrive - Universitetet i Oslo\\Dokumenter\\GitHub\\Privat\\FYS2130-Svingninger-og-bolger\\Comp. Essay\\NCE.ipynb:1"
     ]
    }
   ],
   "source": [
    "plot_energy(V_JL, kinetic_energy, t, steps)"
   ]
  },
  {
   "cell_type": "code",
   "execution_count": 73,
   "metadata": {},
   "outputs": [
    {
     "name": "stdout",
     "output_type": "stream",
     "text": [
      "  0.184602 seconds (55.17 k allocations: 2.813 MiB, 99.47% compilation time)\n"
     ]
    },
    {
     "name": "stdout",
     "output_type": "stream",
     "text": [
      "  0.061445 seconds (53.04 k allocations: 2.598 MiB, 99.14% compilation time)\n"
     ]
    },
    {
     "data": {
      "text/plain": [
       "3-element SVector{3, UnionAll} with indices SOneTo(3):\n",
       " SVector{250}\u001b[90m (alias for \u001b[39m\u001b[90mSArray{Tuple{250}, T, 1, 250} where T\u001b[39m\u001b[90m)\u001b[39m\n",
       " SVector{200}\u001b[90m (alias for \u001b[39m\u001b[90mSArray{Tuple{200}, T, 1, 200} where T\u001b[39m\u001b[90m)\u001b[39m\n",
       " SVector{2}\u001b[90m (alias for \u001b[39m\u001b[90mSArray{Tuple{2}, T, 1, 2} where T\u001b[39m\u001b[90m)\u001b[39m"
      ]
     },
     "metadata": {},
     "output_type": "display_data"
    }
   ],
   "source": [
    "N = 10\n",
    "@time r_0 = SVector{N}([SVector{2}(rand(2)) for i in 1:N])\n",
    "@time r_1 = [rand(2) for i in 1:N]\n",
    "\n",
    "\n",
    "SVector{3}([SVector{250} SVector{200} SVector{2}])"
   ]
  }
 ],
 "metadata": {
  "kernelspec": {
   "display_name": "Julia 1.8.3",
   "language": "julia",
   "name": "julia-1.8"
  },
  "language_info": {
   "file_extension": ".jl",
   "mimetype": "application/julia",
   "name": "julia",
   "version": "1.8.3"
  },
  "orig_nbformat": 4
 },
 "nbformat": 4,
 "nbformat_minor": 2
}
